{
  "nbformat": 4,
  "nbformat_minor": 0,
  "metadata": {
    "colab": {
      "provenance": []
    },
    "kernelspec": {
      "name": "python3",
      "display_name": "Python 3"
    },
    "language_info": {
      "name": "python"
    }
  },
  "cells": [
    {
      "cell_type": "code",
      "execution_count": 2,
      "metadata": {
        "id": "_XTGThPyv69D"
      },
      "outputs": [],
      "source": [
        "import requests"
      ]
    },
    {
      "cell_type": "code",
      "source": [
        "url='Request URL: https://www.linkedin.com/li/track'"
      ],
      "metadata": {
        "id": "l-HVWCIQwrjI"
      },
      "execution_count": 11,
      "outputs": []
    },
    {
      "cell_type": "code",
      "source": [
        "url='https://www.kaggle.com/api/i/competitions.CompetitionService/ListCompetitions'"
      ],
      "metadata": {
        "id": "aZEI5HV6zq4D"
      },
      "execution_count": 12,
      "outputs": []
    },
    {
      "cell_type": "code",
      "source": [
        "url='https://gateway.daft.ie/old/v1/listings'"
      ],
      "metadata": {
        "id": "YQVEcbva0yv9"
      },
      "execution_count": 13,
      "outputs": []
    },
    {
      "cell_type": "code",
      "source": [
        "data='{section: \"new-homes\", filters: [{name: \"adState\", values: [\"published\"]}], andFilters: [], ranges: []}'"
      ],
      "metadata": {
        "id": "RuilGp0L2SMb"
      },
      "execution_count": 17,
      "outputs": []
    },
    {
      "cell_type": "code",
      "source": [
        "headers={\n",
        "'accept-encoding': 'gzip, deflate, br',\n",
        "'accept-language': 'en-US,en;q=0.9',\n",
        "'brand': 'daft',\n",
        "'cache-control': 'no-cache, no-store',\n",
        "'content-length': '224',\n",
        "'content-type': 'application/json',\n",
        "'expires': '0',\n",
        "'origin': 'https://www.daft.ie',\n",
        "'platform': 'web',\n",
        "'pragma': 'no-cache',\n",
        "'referer': 'https://www.daft.ie/',\n",
        "'sec-ch-ua': '\"Google Chrome\";v=\"107\", \"Chromium\";v=\"107\", \"Not=A?Brand\";v=\"24\"',\n",
        "'sec-ch-ua-mobile': '?0',\n",
        "'sec-ch-ua-platform': '\"Windows\"',\n",
        "'sec-fetch-dest': 'empty',\n",
        "'sec-fetch-mode': 'cors',\n",
        "'sec-fetch-site': 'same-site',\n",
        "'user-agent': 'Mozilla/5.0 (Windows NT 10.0; Win64; x64) AppleWebKit/537.36 (KHTML, like Gecko) Chrome/107.0.0.0 Safari/537.36',\n",
        "'version': '0.1.1952',\n",
        "}"
      ],
      "metadata": {
        "id": "JYOmHZPL88Qj"
      },
      "execution_count": 20,
      "outputs": []
    },
    {
      "cell_type": "code",
      "source": [
        "r=requests.post(url,data,headers=headers)"
      ],
      "metadata": {
        "id": "UD6aYIt4DtTN"
      },
      "execution_count": 23,
      "outputs": []
    },
    {
      "cell_type": "code",
      "source": [
        "r"
      ],
      "metadata": {
        "colab": {
          "base_uri": "https://localhost:8080/"
        },
        "id": "PCxneZt_EMsy",
        "outputId": "fc4b79e6-e3bf-42b8-8932-57d8ca3374fb"
      },
      "execution_count": 24,
      "outputs": [
        {
          "output_type": "execute_result",
          "data": {
            "text/plain": [
              "<Response [400]>"
            ]
          },
          "metadata": {},
          "execution_count": 24
        }
      ]
    },
    {
      "cell_type": "code",
      "source": [
        "r.content"
      ],
      "metadata": {
        "colab": {
          "base_uri": "https://localhost:8080/"
        },
        "id": "ExlargI7FDUh",
        "outputId": "47cf2ee1-347e-4965-ed04-8216425d7747"
      },
      "execution_count": 25,
      "outputs": [
        {
          "output_type": "execute_result",
          "data": {
            "text/plain": [
              "b'{\"timestamp\":1668377769598,\"status\":400,\"error\":\"Bad Request\",\"path\":\"/v1/listings\"}'"
            ]
          },
          "metadata": {},
          "execution_count": 25
        }
      ]
    }
  ]
}