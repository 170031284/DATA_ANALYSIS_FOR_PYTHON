{
  "nbformat": 4,
  "nbformat_minor": 0,
  "metadata": {
    "colab": {
      "provenance": []
    },
    "kernelspec": {
      "name": "python3",
      "display_name": "Python 3"
    },
    "language_info": {
      "name": "python"
    }
  },
  "cells": [
    {
      "cell_type": "code",
      "execution_count": null,
      "metadata": {
        "id": "_XTGThPyv69D"
      },
      "outputs": [],
      "source": [
        "import requests\n",
        "import jason \n",
        "import pandas as pd "
      ]
    },
    {
      "cell_type": "code",
      "source": [
        "Url=\"https://ie.indeed.com/m/basecamp/viewjob?viewtype=embedded&jk=e11d55e849360723&from=tp-sponfirstjob&tk=1gingvlirj6f1800&advn=4321286289643585&adid=395868773&ad=-6NYlbfkN0BtS3FSlQOeZdp75U1xK1lDPg8coi0w7vkkUFM_9cZ4LERanDXeKor5F05r02FweJ9giS6krI7I7B4EvTJzUkC_kRR_TiNIvX0Wx55m2z3cHum0Q1-8ego4Ij03Bqjj5yeHsi48YgUh_EWgTCk0tisMZrcaV7NJ85USq-Z8yyl_CdYdzqYqKcS9iD-LlPqgWkTatB7jkBAW0Pcw6cepjWGVofKWxDbm4r5cOWTeS5ybCgaVz9WVNAzRJFtQUSpsX_7n4zv3HWEx6Kway502-xO-tOSfsL5ixy9ZrC6EwppEcrj4IBsZew3yRR4cReL1Nz2cZFHU9VOQej8CmCvbSlwDw0jh2yAtf-cF5pYWdXNSxrvBEUIroKHJXRGlsi84HQwZdAeOhhPUdffApGSJVfru3Hz-ITR5Q4vxS1pRBx_58ZUtx8_XVK9K5aTRq88ciBuGULd8zBrUBEePyjPEqxlhcMgMNIEpEAdHfm16L0SOEr-5-22fn0jrqF1BV2Kt2Q8%3D&xkcb=SoAo-_M3WXpxbSyS3p0LbzkdCdPP&spa=1&hidecmpheader=0\""
      ],
      "metadata": {
        "id": "YQVEcbva0yv9"
      },
      "execution_count": 6,
      "outputs": []
    },
    {
      "cell_type": "code",
      "source": [
        "data={status: \"success\",…}\n",
        "body\n",
        ": \n",
        "{accountKey: null, apiPaths: {}, appCommonData: null, averageRatingsModel: null,…}\n",
        "status\n",
        ": \n",
        "\"success\""
      ],
      "metadata": {
        "id": "RuilGp0L2SMb"
      },
      "execution_count": null,
      "outputs": []
    },
    {
      "cell_type": "code",
      "source": [
        "header={\n",
        "'accept': '*/*',\n",
        "'accept-encoding': 'gzip, deflate, br',\n",
        "'accept-language': 'en-US,en;q=0.9',\n",
        "'cookie': 'indeed_rcc=CTK; CTK=1gfjjib85m3da801; RF=wKGgxUwMHWV1aKM-FTjqiMrjRY8zAroFxocW7SGr9uJASaKa98Jda-GQh4AA-Lar568klC1QqiEnrF6n0DXF15dzHbnE60bhl1qbW7ITtzD5pzuMb0BkYGBdLO4wqw1SzJjMRTqu5dOxWqpc0wdgOAsVBkMYHK4H; _ga=GA1.2.648761727.1666031630; CSRF=8Tad0uOcKI6lP1CE6W99HwF5fPtE0qCh; INDEED_CSRF_TOKEN=irUMVgIjXmEmjaZv4oVIBr75ua0ftL42; _cfuvid=_znYWIqjDub0RpeVjtoD8AnVTUz7zqvA0978BwK6gKg-1669336839241-0-604800000; SURF=nqSQHs4GvbXeSajgmza9cMbzHEic9rkI; _gcl_au=1.1.1748113825.1669337004; SHARED_INDEED_CSRF_TOKEN=irUMVgIjXmEmjaZv4oVIBr75ua0ftL42; LOCALE=en; MICRO_CONTENT_CSRF_TOKEN=JCbwxv3crT4dSYg5UWSE7TyEtuWLHqvh; PPID=\"\"; gonetap=closed; OptanonAlertBoxClosed=2022-11-25T00:58:32.835Z; _gid=GA1.2.1133006559.1669337913; LOCALE=en; __cf_bm=wNrX.ffOD1O7GiF6NCN0U8Ovaya0Pk0DCuxeAodXqzo-1669383606-0-AdKplTxKukqMlLILfXaqqqibyIAYErXCCHqVlFJqcPfxapjvrR94PYRZk8s/brs7LEvYlbBYe8eTg6dox/kqa1A=; RSJC=e11d55e849360723; indeed_rcc=\"PREF:LV:CTK:UD\"; LV=\"LA=1669384354:LV=1669376634:CV=1669384354:TS=1666170426\"; _gat=1; LC=\"co=IE\"; _gali=jobsearch; PREF=\"TM=1669384361563:L=Ireland\"; jaSerpCount=11; UD=\"LA=1669384361:LV=1669376633:CV=1669384353:TS=1669376633:SG=3837017869a5a6b07f8728f2e3f732d8\"; RQ=\"q=work+from+home&l=&ts=1669384361598&pts=1669376661771:q=docters&l=Ireland&ts=1669370595440:q=data+analyst&l=Ireland&ts=1669337903555:q=graduate+programme&l=Ireland&ts=1669337789537\"; JSESSIONID=4E9F26E68D5DB191FD950B1D9519C240; OptanonConsent=isGpcEnabled=0&datestamp=Fri+Nov+25+2022+13%3A52%3A43+GMT%2B0000+(Greenwich+Mean+Time)&version=6.37.0&isIABGlobal=false&hosts=&consentId=ae849e40-67ee-4240-9ae4-f956c182f8af&interactionCount=2&landingPath=NotLandingPage&groups=C0001%3A1%2CC0002%3A1%2CC0003%3A1%2CC0004%3A1%2CC0007%3A1&AwaitingReconsent=false&geolocation=%3B; ac=b6PT4GzIEe2Fv/ewdLwnNA#b6VagGzIEe2Fv/ewdLwnNA',\n",
        "'referer': 'https://ie.indeed.com/jobs?q=work%20from%20home&l=Ireland',\n",
        "'sec-ch-ua': '\"Google Chrome\";v=\"107\", \"Chromium\";v=\"107\", \"Not=A?Brand\";v=\"24\"',\n",
        "'sec-ch-ua-mobile': '?0',\n",
        "'sec-ch-ua-platform': '\"Windows\"',\n",
        "'sec-fetch-dest': 'empty',\n",
        "'sec-fetch-mode': 'cors',\n",
        "'sec-fetch-site': 'same-origin',\n",
        "'user-agent': 'Mozilla/5.0 (Windows NT 10.0; Win64; x64) AppleWebKit/537.36 (KHTML, like Gecko) Chrome/107.0.0.0 Safari/537.36',\n",
        "}"
      ],
      "metadata": {
        "id": "JYOmHZPL88Qj"
      },
      "execution_count": 7,
      "outputs": []
    },
    {
      "cell_type": "code",
      "source": [
        "r=requests.post(url,data,headers=headers)"
      ],
      "metadata": {
        "id": "UD6aYIt4DtTN"
      },
      "execution_count": null,
      "outputs": []
    },
    {
      "cell_type": "code",
      "source": [
        "r"
      ],
      "metadata": {
        "colab": {
          "base_uri": "https://localhost:8080/"
        },
        "id": "PCxneZt_EMsy",
        "outputId": "fc4b79e6-e3bf-42b8-8932-57d8ca3374fb"
      },
      "execution_count": null,
      "outputs": [
        {
          "output_type": "execute_result",
          "data": {
            "text/plain": [
              "<Response [400]>"
            ]
          },
          "metadata": {},
          "execution_count": 24
        }
      ]
    },
    {
      "cell_type": "code",
      "source": [
        "r.content"
      ],
      "metadata": {
        "colab": {
          "base_uri": "https://localhost:8080/"
        },
        "id": "ExlargI7FDUh",
        "outputId": "6d9ae7f7-5b0e-4fd3-ef47-e52cce2d9623"
      },
      "execution_count": null,
      "outputs": [
        {
          "output_type": "execute_result",
          "data": {
            "text/plain": [
              "b'{\"timestamp\":1668377769598,\"status\":400,\"error\":\"Bad Request\",\"path\":\"/v1/listings\"}'"
            ]
          },
          "metadata": {},
          "execution_count": 26
        }
      ]
    },
    {
      "cell_type": "code",
      "source": [
        "url='Request URL: https://ie.indeed.com/jobs?q=work+from+home&l=&vjk=e11d55e849360723'"
      ],
      "metadata": {
        "id": "IML_3npLPpIs"
      },
      "execution_count": 1,
      "outputs": []
    },
    {
      "cell_type": "code",
      "source": [
        "accept: */*\n",
        "accept-encoding: gzip, deflate, br\n",
        "accept-language: en-US,en;q=0.9\n",
        "cookie: indeed_rcc=CTK; CTK=1gfjjib85m3da801; RF=wKGgxUwMHWV1aKM-FTjqiMrjRY8zAroFxocW7SGr9uJASaKa98Jda-GQh4AA-Lar568klC1QqiEnrF6n0DXF15dzHbnE60bhl1qbW7ITtzD5pzuMb0BkYGBdLO4wqw1SzJjMRTqu5dOxWqpc0wdgOAsVBkMYHK4H; _ga=GA1.2.648761727.1666031630; CSRF=8Tad0uOcKI6lP1CE6W99HwF5fPtE0qCh; INDEED_CSRF_TOKEN=irUMVgIjXmEmjaZv4oVIBr75ua0ftL42; _cfuvid=_znYWIqjDub0RpeVjtoD8AnVTUz7zqvA0978BwK6gKg-1669336839241-0-604800000; SURF=nqSQHs4GvbXeSajgmza9cMbzHEic9rkI; _gcl_au=1.1.1748113825.1669337004; SHARED_INDEED_CSRF_TOKEN=irUMVgIjXmEmjaZv4oVIBr75ua0ftL42; LOCALE=en; MICRO_CONTENT_CSRF_TOKEN=JCbwxv3crT4dSYg5UWSE7TyEtuWLHqvh; PPID=\"\"; gonetap=closed; OptanonAlertBoxClosed=2022-11-25T00:58:32.835Z; _gid=GA1.2.1133006559.1669337913; __cf_bm=27wyMRUOJWyWUPmkEZzy6HWR4aPq0HfD.lAaGjqINSo-1669370579-0-AYmEA3XxKHgV0v18UtuMSn0ohkdz+uM8Kwhi3LuCxuMsen/rbrviKVh1Vnn8Xi0ZG3Zpzz39rdN/tW3/j2wIcyc=; LOCALE=en; indeed_rcc=\"PREF:LV:CTK:UD\"; LV=\"LA=1669370618:LV=1669337002:CV=1669370595:TS=1666170426\"; OptanonConsent=isGpcEnabled=0&datestamp=Fri+Nov+25+2022+10%3A03%3A42+GMT%2B0000+(Greenwich+Mean+Time)&version=6.37.0&isIABGlobal=false&hosts=&consentId=ae849e40-67ee-4240-9ae4-f956c182f8af&interactionCount=2&landingPath=NotLandingPage&groups=C0001%3A1%2CC0002%3A1%2CC0003%3A1%2CC0004%3A1%2CC0007%3A1&AwaitingReconsent=false&geolocation=%3B; LC=\"co=IE\"; _gali=jobsearch; PREF=\"TM=1669371130460:L=Ireland\"; jaSerpCount=7; UD=\"LA=1669371130:CV=1669370595:TS=1669370595:SG=44dd378c1eade1c72c593b654c0c19b8\"; RQ=\"q=work+from+home&l=&ts=1669371130491:q=docters&l=Ireland&ts=1669370595440:q=data+analyst&l=Ireland&ts=1669337903555:q=graduate+programme&l=Ireland&ts=1669337789537\"; JSESSIONID=7ADE59FD5C48C10A12F5DBD4B1B11EBE\n",
        "referer: https://ie.indeed.com/jobs?q=work%20from%20home&l=Ireland\n",
        "sec-ch-ua: \"Google Chrome\";v=\"107\", \"Chromium\";v=\"107\", \"Not=A?Brand\";v=\"24\"\n",
        "sec-ch-ua-mobile: ?0\n",
        "sec-ch-ua-platform: \"Windows\"\n",
        "sec-fetch-dest: empty\n",
        "sec-fetch-mode: cors\n",
        "sec-fetch-site: same-origin\n",
        "user-agent: Mozilla/5.0 (Windows NT 10.0; Win64; x64) AppleWebKit/537.36 (KHTML, like Gecko) Chrome/107.0.0.0 Safari/537.36"
      ],
      "metadata": {
        "id": "qK0DRwAOQjdV"
      },
      "execution_count": null,
      "outputs": []
    }
  ]
}