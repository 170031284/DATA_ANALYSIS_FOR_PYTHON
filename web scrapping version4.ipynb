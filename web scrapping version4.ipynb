{
  "nbformat": 4,
  "nbformat_minor": 0,
  "metadata": {
    "colab": {
      "provenance": [],
      "authorship_tag": "ABX9TyPtdI41Fv95JscI0GfIqVy1",
      "include_colab_link": true
    },
    "kernelspec": {
      "name": "python3",
      "display_name": "Python 3"
    },
    "language_info": {
      "name": "python"
    }
  },
  "cells": [
    {
      "cell_type": "markdown",
      "metadata": {
        "id": "view-in-github",
        "colab_type": "text"
      },
      "source": [
        "<a href=\"https://colab.research.google.com/github/170031284/DATA_ANALYSIS_FOR_PYTHON/blob/main/web%20scrapping%20version4.ipynb\" target=\"_parent\"><img src=\"https://colab.research.google.com/assets/colab-badge.svg\" alt=\"Open In Colab\"/></a>"
      ]
    },
    {
      "cell_type": "code",
      "execution_count": 1,
      "metadata": {
        "id": "4jI69EWoahZ-"
      },
      "outputs": [],
      "source": [
        "\n",
        "from bs4 import BeautifulSoup\n",
        "import requests\n",
        "from csv import writer\n"
      ]
    },
    {
      "cell_type": "code",
      "source": [
        "url= \"https://www.pararius.com/apartments/amsterdam?ac=1\"\n"
      ],
      "metadata": {
        "id": "eeSqMmtsoR2_"
      },
      "execution_count": 3,
      "outputs": []
    },
    {
      "cell_type": "code",
      "source": [
        "page = requests.get(url)\n",
        "print(page)"
      ],
      "metadata": {
        "colab": {
          "base_uri": "https://localhost:8080/"
        },
        "id": "NH_aC9-Zopjw",
        "outputId": "6b56091c-82fb-4b8b-83df-36a1b003211f"
      },
      "execution_count": 4,
      "outputs": [
        {
          "output_type": "stream",
          "name": "stdout",
          "text": [
            "<Response [200]>\n"
          ]
        }
      ]
    },
    {
      "cell_type": "code",
      "source": [
        "\n",
        "soup = BeautifulSoup(page.content, 'html.parser')\n",
        "print(soup)"
      ],
      "metadata": {
        "colab": {
          "base_uri": "https://localhost:8080/"
        },
        "id": "OzTaifz0oS6_",
        "outputId": "0b512864-82a6-4d49-e473-7e660ef25fc8"
      },
      "execution_count": 6,
      "outputs": [
        {
          "output_type": "stream",
          "name": "stdout",
          "text": [
            "<!DOCTYPE html>\n",
            "\n",
            "<html>\n",
            "<head>\n",
            "<script defer=\"\" src=\"/cgi-bin/fl/static/fl.min.js?393cda3b\"></script>\n",
            "<style>\n",
            "\t@font-face {\n",
            "\t\tfont-family: 'Noto Serif';\n",
            "\t\tfont-style: normal;\n",
            "\t\tfont-weight: 400;\n",
            "\t\tsrc: url('https://static.fairlane.cloud/fonts/noto-serif-v21-latin-regular.eot'); /* IE9 Compat Modes */\n",
            "\t\tsrc: local(''),\n",
            "\t\t\turl('https://static.fairlane.cloud/fonts/noto-serif-v21-latin-regular.eot?#iefix') format('embedded-opentype'), /* IE6-IE8 */\n",
            "\t\t\turl('https://static.fairlane.cloud/fonts/noto-serif-v21-latin-regular.woff2') format('woff2'), /* Super Modern Browsers */\n",
            "\t\t\turl('https://static.fairlane.cloud/fonts/noto-serif-v21-latin-regular.woff') format('woff'), /* Modern Browsers */\n",
            "\t\t\turl('https://static.fairlane.cloud/fonts/noto-serif-v21-latin-regular.ttf') format('truetype'), /* Safari, Android, iOS */\n",
            "\t\t\turl('https://static.fairlane.cloud/fonts/noto-serif-v21-latin-regular.svg#NotoSerif') format('svg'); /* Legacy iOS */\n",
            "\t}\n",
            "\tbody{\n",
            "\t\tfont-family: 'Noto Serif', serif;\n",
            "\t\tbackground-color: #white;\n",
            "\t}\n",
            "\tnoscript {\n",
            "\t\tcolor: red;\n",
            "\t}\n",
            "\t.text-box{\n",
            "\t\tcolor: #black;\n",
            "\t\ttext-align: center;\n",
            "\t\ttext-decoration: none;\n",
            "\t\tdisplay: inline-block;\n",
            "\t\tfont-size: 12px;\n",
            "\t\tmargin: 4px 2px;\n",
            "\t\tcursor: pointer;\n",
            "\t\tdisplay: flex;\n",
            "\t\tflex-direction: column;\n",
            "\t\tjustify-content: center;\n",
            "\t\talign-items: center;\n",
            "\t}\n",
            "\n",
            "\t.container{\n",
            "\t\theight: 100%;\n",
            "\t\twidth: 40px;\n",
            "\t\tmargin: 20px auto;\n",
            "\t}\n",
            "\n",
            "\t.vc {\n",
            "\t\tposition: absolute;\n",
            "\t\ttop: 50%;\n",
            "\t\tleft: 50%;\n",
            "\t\t-moz-transform: translateX(-50%) translateY(-50%);\n",
            "\t\t-webkit-transform: translateX(-50%) translateY(-50%);\n",
            "\t\ttransform: translateX(-50%) translateY(-50%);}\n",
            "\t.box{\n",
            "\t\twidth: 15px;\n",
            "\t\theight: 15px;\n",
            "\t\tbackground-color: #123356;\n",
            "\t\tdisplay: inline-block;\n",
            "\t\tanimation: pulse 0.6s ease-in infinite alternate;\n",
            "\t}\n",
            "\t.box2, .box3{\n",
            "\t\tanimation-delay: 0.6s;\n",
            "\t}\n",
            "\n",
            "\t@Keyframes pulse{\n",
            "\t\t100%{\n",
            "\t\t\topacity: 0;\n",
            "\t\t}\n",
            "\t}\n",
            "\t@media only screen and (max-device-width: 480px) {\n",
            "\t.text-box{\n",
            "\t\tfont-size: 20px;\n",
            "\t}\n",
            "\tbutton {\n",
            "\t\tfont-size: 20px;\n",
            "\t}\n",
            "\t</style>\n",
            "<meta content=\"no-cache\" http-equiv=\"Cache-control\"/>\n",
            "<meta content=\"max-age=0\" http-equiv=\"cache-control\"/>\n",
            "<meta content=\"no-cache\" http-equiv=\"cache-control\"/>\n",
            "<meta content=\"-1\" http-equiv=\"expires\"/>\n",
            "<meta content=\"Tue, 01 Jan 1980 11:00:00 GMT\" http-equiv=\"expires\"/>\n",
            "<meta content=\"no-cache\" http-equiv=\"pragma\"/>\n",
            "</head>\n",
            "</html>\n",
            "<body>\n",
            "<div class=\"vc\">\n",
            "<div class=\"text-box\">\n",
            "<img src=\"https://static.fairlane.cloud/FAIRLANE_LOGO_WOORD_DEF.png\" style=\"width:200px;\"/>\n",
            "<div class=\"container\">\n",
            "<div class=\"box box1\"></div>\n",
            "<div class=\"box box2\"></div>\n",
            "<div class=\"box box3\"></div>\n",
            "<div class=\"box box4\"></div>\n",
            "</div>\n",
            "<noscript>\n",
            "<h1> www.pararius.com requires JavaScript. Please enable JavaScript and refresh this page. </h1>\n",
            "</noscript>\n",
            "<h2>\n",
            "\t\t\tChecking your browser before accessing www.pararius.com.\n",
            "\t\t\t</h2>\n",
            "<h3>\n",
            "\t\t\t\tThis process is automatic. Your browser will redirect to your requested content shortly.\n",
            "\t\t\t\tPlease allow up to 5 secondsâ€¦\n",
            "\t\t\t</h3>\n",
            "</div>\n",
            "<noscript>\n",
            "<h1> This page requires JavaScript. Please enable JavaScript and refresh this page. </h1>\n",
            "</noscript>\n",
            "</div>\n",
            "</body>\n",
            "<script>\n",
            "\tif(!navigator.cookieEnabled) {\n",
            "\t\tdocument.getElementsByClassName(\"text-box\")[0].innerHTML += `<h3 style='color: red;'> Please enable cookies and refresh this page. </h3>`\n",
            "\t}\n",
            "\t</script>\n",
            "\n",
            "\n"
          ]
        }
      ]
    },
    {
      "cell_type": "code",
      "source": [
        "\n",
        "lists = soup.find_all('section', class_=\"listing-search-item\""
      ],
      "metadata": {
        "colab": {
          "base_uri": "https://localhost:8080/"
        },
        "id": "sUEidRKxo0QQ",
        "outputId": "cbcf8052-d758-4107-d88b-ac0e7dbb145d"
      },
      "execution_count": 7,
      "outputs": [
        {
          "output_type": "stream",
          "name": "stdout",
          "text": [
            "[]\n"
          ]
        }
      ]
    },
    {
      "cell_type": "code",
      "source": [
        "\n",
        "with open('housing.csv', 'w', encoding='utf8', newline='') as f:\n",
        "    thewriter = writer(f)\n",
        "    header = ['Title', 'Location', 'Price', 'Area']\n",
        "    thewriter.writerow(header)\n",
        "\n",
        "    for list in lists:\n",
        "        title = list.find('a', class_=\"listing-search-item__link--title\").text.replace('\\n', '')\n",
        "        location = list.find('div', class_=\"listing-search-item__location\").text.replace('\\n', '')\n",
        "        price = list.find('span', class_=\"listing-search-item__price\").text.replace('\\n', '')\n",
        "        area = list.find('span', class_=\"illustrated-features__description\").text.replace('\\n', '')\n",
        "        \n",
        "        info = [title, location, price, area]\n",
        "        thewriter.writerow(info)"
      ],
      "metadata": {
        "id": "p17bU_fnoTGT"
      },
      "execution_count": 16,
      "outputs": []
    }
  ]
}